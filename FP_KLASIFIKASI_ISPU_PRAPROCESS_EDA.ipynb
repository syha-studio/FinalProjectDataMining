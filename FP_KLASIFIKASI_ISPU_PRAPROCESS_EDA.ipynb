{
  "cells": [
    {
      "cell_type": "markdown",
      "id": "c018978a-7c0b-4ed1-b076-43d11b28c088",
      "metadata": {
        "id": "c018978a-7c0b-4ed1-b076-43d11b28c088"
      },
      "source": [
        "# FINAL PROJECT DATA MINING\n",
        "\n"
      ]
    },
    {
      "cell_type": "markdown",
      "id": "ee60797d-936f-4eb3-8b10-9cfe4236c782",
      "metadata": {
        "id": "ee60797d-936f-4eb3-8b10-9cfe4236c782"
      },
      "source": [
        "> ## Kelas Data Mining B\n",
        "> #### - Rendi Panca Wijanarko (21082010016)\n",
        "> #### - Maulana Bryan Syahputra (210820038)\n",
        "> #### - Syauqillah Hadie Ahsana (21082010042)"
      ]
    },
    {
      "cell_type": "markdown",
      "id": "9a14ffa9-af9c-4dd9-96d7-4dc7eedfe0d0",
      "metadata": {
        "id": "9a14ffa9-af9c-4dd9-96d7-4dc7eedfe0d0"
      },
      "source": [
        "# EDA (Exploratory Data Analysis)"
      ]
    },
    {
      "cell_type": "code",
      "execution_count": null,
      "id": "d7dc51e9-3b31-4470-96ea-8f9385d21cf7",
      "metadata": {
        "id": "d7dc51e9-3b31-4470-96ea-8f9385d21cf7"
      },
      "outputs": [],
      "source": [
        "# Import library untuk analisis data\n",
        "import numpy as np\n",
        "import pandas as pd\n",
        "\n",
        "# Import library untuk visualisasi data\n",
        "import seaborn as sns\n",
        "import matplotlib.pyplot as plt"
      ]
    },
    {
      "cell_type": "code",
      "execution_count": null,
      "id": "a00b3feb-327d-43fc-ac26-d55aa74c8ef1",
      "metadata": {
        "id": "a00b3feb-327d-43fc-ac26-d55aa74c8ef1"
      },
      "outputs": [],
      "source": [
        "# Import Data\n",
        "df = pd.read_csv ('https://raw.githubusercontent.com/syha-studio/FinalProjectDataMining/refs/heads/main/Indeks%20Standar%20Pencemaran%20Udara%20(ISPU)%20Tahun%202021%20-%202022.xlsx%20-%20Fixed%20Data.csv')"
      ]
    },
    {
      "cell_type": "code",
      "execution_count": null,
      "id": "5ba441d5-663e-4816-b6a5-7b17989c4ee1",
      "metadata": {
        "colab": {
          "base_uri": "https://localhost:8080/",
          "height": 206
        },
        "id": "5ba441d5-663e-4816-b6a5-7b17989c4ee1",
        "outputId": "6884c874-5feb-4bca-fbda-688b4ac40079"
      },
      "outputs": [
        {
          "output_type": "execute_result",
          "data": {
            "text/plain": [
              "   Periode Data    Tanggal Stasiun  PM10  PM2,5   SO2    CO    O3   NO2 MAX  \\\n",
              "0        202101  1/22/2021    DKI5  45.0    NaN  21.0  13.0  40.0  15.0  45   \n",
              "1        202101  1/23/2021    DKI5  80.0    NaN  22.0  44.0  44.0  22.0  80   \n",
              "2        202101  1/24/2021    DKI5  27.0    NaN  14.0   9.0  29.0   NaN  29   \n",
              "3        202101  1/25/2021    DKI5  55.0    NaN  19.0  29.0  67.0  13.0  67   \n",
              "4        202101  1/26/2021    DKI5  57.0    NaN  21.0  23.0  36.0  16.0  57   \n",
              "\n",
              "  Critical Category  \n",
              "0     PM10     BAIK  \n",
              "1     PM10   SEDANG  \n",
              "2       CO     BAIK  \n",
              "3       CO   SEDANG  \n",
              "4     PM10   SEDANG  "
            ],
            "text/html": [
              "\n",
              "  <div id=\"df-b693be3d-61c6-4e26-b11c-8ebcb19e9deb\" class=\"colab-df-container\">\n",
              "    <div>\n",
              "<style scoped>\n",
              "    .dataframe tbody tr th:only-of-type {\n",
              "        vertical-align: middle;\n",
              "    }\n",
              "\n",
              "    .dataframe tbody tr th {\n",
              "        vertical-align: top;\n",
              "    }\n",
              "\n",
              "    .dataframe thead th {\n",
              "        text-align: right;\n",
              "    }\n",
              "</style>\n",
              "<table border=\"1\" class=\"dataframe\">\n",
              "  <thead>\n",
              "    <tr style=\"text-align: right;\">\n",
              "      <th></th>\n",
              "      <th>Periode Data</th>\n",
              "      <th>Tanggal</th>\n",
              "      <th>Stasiun</th>\n",
              "      <th>PM10</th>\n",
              "      <th>PM2,5</th>\n",
              "      <th>SO2</th>\n",
              "      <th>CO</th>\n",
              "      <th>O3</th>\n",
              "      <th>NO2</th>\n",
              "      <th>MAX</th>\n",
              "      <th>Critical</th>\n",
              "      <th>Category</th>\n",
              "    </tr>\n",
              "  </thead>\n",
              "  <tbody>\n",
              "    <tr>\n",
              "      <th>0</th>\n",
              "      <td>202101</td>\n",
              "      <td>1/22/2021</td>\n",
              "      <td>DKI5</td>\n",
              "      <td>45.0</td>\n",
              "      <td>NaN</td>\n",
              "      <td>21.0</td>\n",
              "      <td>13.0</td>\n",
              "      <td>40.0</td>\n",
              "      <td>15.0</td>\n",
              "      <td>45</td>\n",
              "      <td>PM10</td>\n",
              "      <td>BAIK</td>\n",
              "    </tr>\n",
              "    <tr>\n",
              "      <th>1</th>\n",
              "      <td>202101</td>\n",
              "      <td>1/23/2021</td>\n",
              "      <td>DKI5</td>\n",
              "      <td>80.0</td>\n",
              "      <td>NaN</td>\n",
              "      <td>22.0</td>\n",
              "      <td>44.0</td>\n",
              "      <td>44.0</td>\n",
              "      <td>22.0</td>\n",
              "      <td>80</td>\n",
              "      <td>PM10</td>\n",
              "      <td>SEDANG</td>\n",
              "    </tr>\n",
              "    <tr>\n",
              "      <th>2</th>\n",
              "      <td>202101</td>\n",
              "      <td>1/24/2021</td>\n",
              "      <td>DKI5</td>\n",
              "      <td>27.0</td>\n",
              "      <td>NaN</td>\n",
              "      <td>14.0</td>\n",
              "      <td>9.0</td>\n",
              "      <td>29.0</td>\n",
              "      <td>NaN</td>\n",
              "      <td>29</td>\n",
              "      <td>CO</td>\n",
              "      <td>BAIK</td>\n",
              "    </tr>\n",
              "    <tr>\n",
              "      <th>3</th>\n",
              "      <td>202101</td>\n",
              "      <td>1/25/2021</td>\n",
              "      <td>DKI5</td>\n",
              "      <td>55.0</td>\n",
              "      <td>NaN</td>\n",
              "      <td>19.0</td>\n",
              "      <td>29.0</td>\n",
              "      <td>67.0</td>\n",
              "      <td>13.0</td>\n",
              "      <td>67</td>\n",
              "      <td>CO</td>\n",
              "      <td>SEDANG</td>\n",
              "    </tr>\n",
              "    <tr>\n",
              "      <th>4</th>\n",
              "      <td>202101</td>\n",
              "      <td>1/26/2021</td>\n",
              "      <td>DKI5</td>\n",
              "      <td>57.0</td>\n",
              "      <td>NaN</td>\n",
              "      <td>21.0</td>\n",
              "      <td>23.0</td>\n",
              "      <td>36.0</td>\n",
              "      <td>16.0</td>\n",
              "      <td>57</td>\n",
              "      <td>PM10</td>\n",
              "      <td>SEDANG</td>\n",
              "    </tr>\n",
              "  </tbody>\n",
              "</table>\n",
              "</div>\n",
              "    <div class=\"colab-df-buttons\">\n",
              "\n",
              "  <div class=\"colab-df-container\">\n",
              "    <button class=\"colab-df-convert\" onclick=\"convertToInteractive('df-b693be3d-61c6-4e26-b11c-8ebcb19e9deb')\"\n",
              "            title=\"Convert this dataframe to an interactive table.\"\n",
              "            style=\"display:none;\">\n",
              "\n",
              "  <svg xmlns=\"http://www.w3.org/2000/svg\" height=\"24px\" viewBox=\"0 -960 960 960\">\n",
              "    <path d=\"M120-120v-720h720v720H120Zm60-500h600v-160H180v160Zm220 220h160v-160H400v160Zm0 220h160v-160H400v160ZM180-400h160v-160H180v160Zm440 0h160v-160H620v160ZM180-180h160v-160H180v160Zm440 0h160v-160H620v160Z\"/>\n",
              "  </svg>\n",
              "    </button>\n",
              "\n",
              "  <style>\n",
              "    .colab-df-container {\n",
              "      display:flex;\n",
              "      gap: 12px;\n",
              "    }\n",
              "\n",
              "    .colab-df-convert {\n",
              "      background-color: #E8F0FE;\n",
              "      border: none;\n",
              "      border-radius: 50%;\n",
              "      cursor: pointer;\n",
              "      display: none;\n",
              "      fill: #1967D2;\n",
              "      height: 32px;\n",
              "      padding: 0 0 0 0;\n",
              "      width: 32px;\n",
              "    }\n",
              "\n",
              "    .colab-df-convert:hover {\n",
              "      background-color: #E2EBFA;\n",
              "      box-shadow: 0px 1px 2px rgba(60, 64, 67, 0.3), 0px 1px 3px 1px rgba(60, 64, 67, 0.15);\n",
              "      fill: #174EA6;\n",
              "    }\n",
              "\n",
              "    .colab-df-buttons div {\n",
              "      margin-bottom: 4px;\n",
              "    }\n",
              "\n",
              "    [theme=dark] .colab-df-convert {\n",
              "      background-color: #3B4455;\n",
              "      fill: #D2E3FC;\n",
              "    }\n",
              "\n",
              "    [theme=dark] .colab-df-convert:hover {\n",
              "      background-color: #434B5C;\n",
              "      box-shadow: 0px 1px 3px 1px rgba(0, 0, 0, 0.15);\n",
              "      filter: drop-shadow(0px 1px 2px rgba(0, 0, 0, 0.3));\n",
              "      fill: #FFFFFF;\n",
              "    }\n",
              "  </style>\n",
              "\n",
              "    <script>\n",
              "      const buttonEl =\n",
              "        document.querySelector('#df-b693be3d-61c6-4e26-b11c-8ebcb19e9deb button.colab-df-convert');\n",
              "      buttonEl.style.display =\n",
              "        google.colab.kernel.accessAllowed ? 'block' : 'none';\n",
              "\n",
              "      async function convertToInteractive(key) {\n",
              "        const element = document.querySelector('#df-b693be3d-61c6-4e26-b11c-8ebcb19e9deb');\n",
              "        const dataTable =\n",
              "          await google.colab.kernel.invokeFunction('convertToInteractive',\n",
              "                                                    [key], {});\n",
              "        if (!dataTable) return;\n",
              "\n",
              "        const docLinkHtml = 'Like what you see? Visit the ' +\n",
              "          '<a target=\"_blank\" href=https://colab.research.google.com/notebooks/data_table.ipynb>data table notebook</a>'\n",
              "          + ' to learn more about interactive tables.';\n",
              "        element.innerHTML = '';\n",
              "        dataTable['output_type'] = 'display_data';\n",
              "        await google.colab.output.renderOutput(dataTable, element);\n",
              "        const docLink = document.createElement('div');\n",
              "        docLink.innerHTML = docLinkHtml;\n",
              "        element.appendChild(docLink);\n",
              "      }\n",
              "    </script>\n",
              "  </div>\n",
              "\n",
              "\n",
              "<div id=\"df-597d6b47-66ad-4963-b0b3-c432ceb2bbe6\">\n",
              "  <button class=\"colab-df-quickchart\" onclick=\"quickchart('df-597d6b47-66ad-4963-b0b3-c432ceb2bbe6')\"\n",
              "            title=\"Suggest charts\"\n",
              "            style=\"display:none;\">\n",
              "\n",
              "<svg xmlns=\"http://www.w3.org/2000/svg\" height=\"24px\"viewBox=\"0 0 24 24\"\n",
              "     width=\"24px\">\n",
              "    <g>\n",
              "        <path d=\"M19 3H5c-1.1 0-2 .9-2 2v14c0 1.1.9 2 2 2h14c1.1 0 2-.9 2-2V5c0-1.1-.9-2-2-2zM9 17H7v-7h2v7zm4 0h-2V7h2v10zm4 0h-2v-4h2v4z\"/>\n",
              "    </g>\n",
              "</svg>\n",
              "  </button>\n",
              "\n",
              "<style>\n",
              "  .colab-df-quickchart {\n",
              "      --bg-color: #E8F0FE;\n",
              "      --fill-color: #1967D2;\n",
              "      --hover-bg-color: #E2EBFA;\n",
              "      --hover-fill-color: #174EA6;\n",
              "      --disabled-fill-color: #AAA;\n",
              "      --disabled-bg-color: #DDD;\n",
              "  }\n",
              "\n",
              "  [theme=dark] .colab-df-quickchart {\n",
              "      --bg-color: #3B4455;\n",
              "      --fill-color: #D2E3FC;\n",
              "      --hover-bg-color: #434B5C;\n",
              "      --hover-fill-color: #FFFFFF;\n",
              "      --disabled-bg-color: #3B4455;\n",
              "      --disabled-fill-color: #666;\n",
              "  }\n",
              "\n",
              "  .colab-df-quickchart {\n",
              "    background-color: var(--bg-color);\n",
              "    border: none;\n",
              "    border-radius: 50%;\n",
              "    cursor: pointer;\n",
              "    display: none;\n",
              "    fill: var(--fill-color);\n",
              "    height: 32px;\n",
              "    padding: 0;\n",
              "    width: 32px;\n",
              "  }\n",
              "\n",
              "  .colab-df-quickchart:hover {\n",
              "    background-color: var(--hover-bg-color);\n",
              "    box-shadow: 0 1px 2px rgba(60, 64, 67, 0.3), 0 1px 3px 1px rgba(60, 64, 67, 0.15);\n",
              "    fill: var(--button-hover-fill-color);\n",
              "  }\n",
              "\n",
              "  .colab-df-quickchart-complete:disabled,\n",
              "  .colab-df-quickchart-complete:disabled:hover {\n",
              "    background-color: var(--disabled-bg-color);\n",
              "    fill: var(--disabled-fill-color);\n",
              "    box-shadow: none;\n",
              "  }\n",
              "\n",
              "  .colab-df-spinner {\n",
              "    border: 2px solid var(--fill-color);\n",
              "    border-color: transparent;\n",
              "    border-bottom-color: var(--fill-color);\n",
              "    animation:\n",
              "      spin 1s steps(1) infinite;\n",
              "  }\n",
              "\n",
              "  @keyframes spin {\n",
              "    0% {\n",
              "      border-color: transparent;\n",
              "      border-bottom-color: var(--fill-color);\n",
              "      border-left-color: var(--fill-color);\n",
              "    }\n",
              "    20% {\n",
              "      border-color: transparent;\n",
              "      border-left-color: var(--fill-color);\n",
              "      border-top-color: var(--fill-color);\n",
              "    }\n",
              "    30% {\n",
              "      border-color: transparent;\n",
              "      border-left-color: var(--fill-color);\n",
              "      border-top-color: var(--fill-color);\n",
              "      border-right-color: var(--fill-color);\n",
              "    }\n",
              "    40% {\n",
              "      border-color: transparent;\n",
              "      border-right-color: var(--fill-color);\n",
              "      border-top-color: var(--fill-color);\n",
              "    }\n",
              "    60% {\n",
              "      border-color: transparent;\n",
              "      border-right-color: var(--fill-color);\n",
              "    }\n",
              "    80% {\n",
              "      border-color: transparent;\n",
              "      border-right-color: var(--fill-color);\n",
              "      border-bottom-color: var(--fill-color);\n",
              "    }\n",
              "    90% {\n",
              "      border-color: transparent;\n",
              "      border-bottom-color: var(--fill-color);\n",
              "    }\n",
              "  }\n",
              "</style>\n",
              "\n",
              "  <script>\n",
              "    async function quickchart(key) {\n",
              "      const quickchartButtonEl =\n",
              "        document.querySelector('#' + key + ' button');\n",
              "      quickchartButtonEl.disabled = true;  // To prevent multiple clicks.\n",
              "      quickchartButtonEl.classList.add('colab-df-spinner');\n",
              "      try {\n",
              "        const charts = await google.colab.kernel.invokeFunction(\n",
              "            'suggestCharts', [key], {});\n",
              "      } catch (error) {\n",
              "        console.error('Error during call to suggestCharts:', error);\n",
              "      }\n",
              "      quickchartButtonEl.classList.remove('colab-df-spinner');\n",
              "      quickchartButtonEl.classList.add('colab-df-quickchart-complete');\n",
              "    }\n",
              "    (() => {\n",
              "      let quickchartButtonEl =\n",
              "        document.querySelector('#df-597d6b47-66ad-4963-b0b3-c432ceb2bbe6 button');\n",
              "      quickchartButtonEl.style.display =\n",
              "        google.colab.kernel.accessAllowed ? 'block' : 'none';\n",
              "    })();\n",
              "  </script>\n",
              "</div>\n",
              "\n",
              "    </div>\n",
              "  </div>\n"
            ],
            "application/vnd.google.colaboratory.intrinsic+json": {
              "type": "dataframe",
              "variable_name": "df",
              "summary": "{\n  \"name\": \"df\",\n  \"rows\": 2190,\n  \"fields\": [\n    {\n      \"column\": \"Periode Data\",\n      \"properties\": {\n        \"dtype\": \"number\",\n        \"std\": 37,\n        \"min\": 202101,\n        \"max\": 202212,\n        \"num_unique_values\": 24,\n        \"samples\": [\n          202109,\n          202210,\n          202101\n        ],\n        \"semantic_type\": \"\",\n        \"description\": \"\"\n      }\n    },\n    {\n      \"column\": \"Tanggal\",\n      \"properties\": {\n        \"dtype\": \"object\",\n        \"num_unique_values\": 729,\n        \"samples\": [\n          \"11/6/2022\",\n          \"6/2/2021\",\n          \"11/30/2021\"\n        ],\n        \"semantic_type\": \"\",\n        \"description\": \"\"\n      }\n    },\n    {\n      \"column\": \"Stasiun\",\n      \"properties\": {\n        \"dtype\": \"category\",\n        \"num_unique_values\": 7,\n        \"samples\": [\n          \"DKI5\",\n          \"DKI1\",\n          \"DKI3 (Jagakarsa)\"\n        ],\n        \"semantic_type\": \"\",\n        \"description\": \"\"\n      }\n    },\n    {\n      \"column\": \"PM10\",\n      \"properties\": {\n        \"dtype\": \"number\",\n        \"std\": 14.683495481207341,\n        \"min\": 14.0,\n        \"max\": 179.0,\n        \"num_unique_values\": 82,\n        \"samples\": [\n          73.0,\n          45.0,\n          51.0\n        ],\n        \"semantic_type\": \"\",\n        \"description\": \"\"\n      }\n    },\n    {\n      \"column\": \"PM2,5\",\n      \"properties\": {\n        \"dtype\": \"number\",\n        \"std\": 23.92807028887932,\n        \"min\": 13.0,\n        \"max\": 174.0,\n        \"num_unique_values\": 138,\n        \"samples\": [\n          105.0,\n          147.0,\n          47.0\n        ],\n        \"semantic_type\": \"\",\n        \"description\": \"\"\n      }\n    },\n    {\n      \"column\": \"SO2\",\n      \"properties\": {\n        \"dtype\": \"number\",\n        \"std\": 12.676021607073485,\n        \"min\": 2.0,\n        \"max\": 82.0,\n        \"num_unique_values\": 72,\n        \"samples\": [\n          16.0,\n          67.0,\n          28.0\n        ],\n        \"semantic_type\": \"\",\n        \"description\": \"\"\n      }\n    },\n    {\n      \"column\": \"CO\",\n      \"properties\": {\n        \"dtype\": \"number\",\n        \"std\": 6.007583838814888,\n        \"min\": 2.0,\n        \"max\": 55.0,\n        \"num_unique_values\": 44,\n        \"samples\": [\n          2.0,\n          43.0,\n          28.0\n        ],\n        \"semantic_type\": \"\",\n        \"description\": \"\"\n      }\n    },\n    {\n      \"column\": \"O3\",\n      \"properties\": {\n        \"dtype\": \"number\",\n        \"std\": 19.150583683707918,\n        \"min\": 7.0,\n        \"max\": 181.0,\n        \"num_unique_values\": 108,\n        \"samples\": [\n          70.0,\n          16.0,\n          36.0\n        ],\n        \"semantic_type\": \"\",\n        \"description\": \"\"\n      }\n    },\n    {\n      \"column\": \"NO2\",\n      \"properties\": {\n        \"dtype\": \"number\",\n        \"std\": 9.915056182195695,\n        \"min\": 1.0,\n        \"max\": 65.0,\n        \"num_unique_values\": 58,\n        \"samples\": [\n          15.0,\n          10.0,\n          35.0\n        ],\n        \"semantic_type\": \"\",\n        \"description\": \"\"\n      }\n    },\n    {\n      \"column\": \"MAX\",\n      \"properties\": {\n        \"dtype\": \"category\",\n        \"num_unique_values\": 138,\n        \"samples\": [\n          \"66\",\n          \"124\",\n          \"33\"\n        ],\n        \"semantic_type\": \"\",\n        \"description\": \"\"\n      }\n    },\n    {\n      \"column\": \"Critical\",\n      \"properties\": {\n        \"dtype\": \"category\",\n        \"num_unique_values\": 7,\n        \"samples\": [\n          \"PM10\",\n          \"CO\",\n          \"BAIK\"\n        ],\n        \"semantic_type\": \"\",\n        \"description\": \"\"\n      }\n    },\n    {\n      \"column\": \"Category\",\n      \"properties\": {\n        \"dtype\": \"category\",\n        \"num_unique_values\": 4,\n        \"samples\": [\n          \"SEDANG\",\n          \"TIDAK ADA DATA\",\n          \"BAIK\"\n        ],\n        \"semantic_type\": \"\",\n        \"description\": \"\"\n      }\n    }\n  ]\n}"
            }
          },
          "metadata": {},
          "execution_count": 3
        }
      ],
      "source": [
        "df.head()"
      ]
    },
    {
      "cell_type": "code",
      "execution_count": null,
      "id": "7e8eb5f6-f352-486e-8dae-2c46cd329274",
      "metadata": {
        "colab": {
          "base_uri": "https://localhost:8080/"
        },
        "id": "7e8eb5f6-f352-486e-8dae-2c46cd329274",
        "outputId": "47bf3814-3857-414f-c804-c1ca7542ea4a"
      },
      "outputs": [
        {
          "output_type": "execute_result",
          "data": {
            "text/plain": [
              "(2190, 12)"
            ]
          },
          "metadata": {},
          "execution_count": 4
        }
      ],
      "source": [
        "df.shape"
      ]
    },
    {
      "cell_type": "code",
      "execution_count": null,
      "id": "52b2622f-d2c9-403b-88b7-a042dd50f377",
      "metadata": {
        "colab": {
          "base_uri": "https://localhost:8080/",
          "height": 460
        },
        "id": "52b2622f-d2c9-403b-88b7-a042dd50f377",
        "outputId": "e5440f6e-e972-4252-96fe-4a11d6724186"
      },
      "outputs": [
        {
          "output_type": "execute_result",
          "data": {
            "text/plain": [
              "Periode Data      int64\n",
              "Tanggal          object\n",
              "Stasiun          object\n",
              "PM10            float64\n",
              "PM2,5           float64\n",
              "SO2             float64\n",
              "CO              float64\n",
              "O3              float64\n",
              "NO2             float64\n",
              "MAX              object\n",
              "Critical         object\n",
              "Category         object\n",
              "dtype: object"
            ],
            "text/html": [
              "<div>\n",
              "<style scoped>\n",
              "    .dataframe tbody tr th:only-of-type {\n",
              "        vertical-align: middle;\n",
              "    }\n",
              "\n",
              "    .dataframe tbody tr th {\n",
              "        vertical-align: top;\n",
              "    }\n",
              "\n",
              "    .dataframe thead th {\n",
              "        text-align: right;\n",
              "    }\n",
              "</style>\n",
              "<table border=\"1\" class=\"dataframe\">\n",
              "  <thead>\n",
              "    <tr style=\"text-align: right;\">\n",
              "      <th></th>\n",
              "      <th>0</th>\n",
              "    </tr>\n",
              "  </thead>\n",
              "  <tbody>\n",
              "    <tr>\n",
              "      <th>Periode Data</th>\n",
              "      <td>int64</td>\n",
              "    </tr>\n",
              "    <tr>\n",
              "      <th>Tanggal</th>\n",
              "      <td>object</td>\n",
              "    </tr>\n",
              "    <tr>\n",
              "      <th>Stasiun</th>\n",
              "      <td>object</td>\n",
              "    </tr>\n",
              "    <tr>\n",
              "      <th>PM10</th>\n",
              "      <td>float64</td>\n",
              "    </tr>\n",
              "    <tr>\n",
              "      <th>PM2,5</th>\n",
              "      <td>float64</td>\n",
              "    </tr>\n",
              "    <tr>\n",
              "      <th>SO2</th>\n",
              "      <td>float64</td>\n",
              "    </tr>\n",
              "    <tr>\n",
              "      <th>CO</th>\n",
              "      <td>float64</td>\n",
              "    </tr>\n",
              "    <tr>\n",
              "      <th>O3</th>\n",
              "      <td>float64</td>\n",
              "    </tr>\n",
              "    <tr>\n",
              "      <th>NO2</th>\n",
              "      <td>float64</td>\n",
              "    </tr>\n",
              "    <tr>\n",
              "      <th>MAX</th>\n",
              "      <td>object</td>\n",
              "    </tr>\n",
              "    <tr>\n",
              "      <th>Critical</th>\n",
              "      <td>object</td>\n",
              "    </tr>\n",
              "    <tr>\n",
              "      <th>Category</th>\n",
              "      <td>object</td>\n",
              "    </tr>\n",
              "  </tbody>\n",
              "</table>\n",
              "</div><br><label><b>dtype:</b> object</label>"
            ]
          },
          "metadata": {},
          "execution_count": 5
        }
      ],
      "source": [
        "df.dtypes"
      ]
    },
    {
      "cell_type": "code",
      "execution_count": null,
      "id": "6d717bab-a619-4c94-b190-cadab6ae1c77",
      "metadata": {
        "colab": {
          "base_uri": "https://localhost:8080/",
          "height": 300
        },
        "id": "6d717bab-a619-4c94-b190-cadab6ae1c77",
        "outputId": "aa0b8b50-a6af-41a6-cb18-ab2f3c046acf"
      },
      "outputs": [
        {
          "output_type": "execute_result",
          "data": {
            "text/plain": [
              "        Periode Data         PM10        PM2,5          SO2           CO  \\\n",
              "count    2190.000000  2122.000000  2090.000000  2076.000000  2154.000000   \n",
              "mean   202123.192694    53.562205    80.655024    37.427746    13.020891   \n",
              "std        37.435498    14.683495    23.928070    12.676022     6.007584   \n",
              "min    202101.000000    14.000000    13.000000     2.000000     2.000000   \n",
              "25%    202104.000000    45.000000    65.000000    27.000000     9.000000   \n",
              "50%    202108.000000    55.000000    80.000000    39.000000    12.000000   \n",
              "75%    202111.000000    63.000000    95.000000    48.000000    16.000000   \n",
              "max    202212.000000   179.000000   174.000000    82.000000    55.000000   \n",
              "\n",
              "                O3          NO2  \n",
              "count  2122.000000  2155.000000  \n",
              "mean     36.195570    21.204176  \n",
              "std      19.150584     9.915056  \n",
              "min       7.000000     1.000000  \n",
              "25%      23.000000    14.000000  \n",
              "50%      31.000000    20.000000  \n",
              "75%      45.000000    27.000000  \n",
              "max     181.000000    65.000000  "
            ],
            "text/html": [
              "\n",
              "  <div id=\"df-e7cffe31-b90d-460f-8113-9499c8225203\" class=\"colab-df-container\">\n",
              "    <div>\n",
              "<style scoped>\n",
              "    .dataframe tbody tr th:only-of-type {\n",
              "        vertical-align: middle;\n",
              "    }\n",
              "\n",
              "    .dataframe tbody tr th {\n",
              "        vertical-align: top;\n",
              "    }\n",
              "\n",
              "    .dataframe thead th {\n",
              "        text-align: right;\n",
              "    }\n",
              "</style>\n",
              "<table border=\"1\" class=\"dataframe\">\n",
              "  <thead>\n",
              "    <tr style=\"text-align: right;\">\n",
              "      <th></th>\n",
              "      <th>Periode Data</th>\n",
              "      <th>PM10</th>\n",
              "      <th>PM2,5</th>\n",
              "      <th>SO2</th>\n",
              "      <th>CO</th>\n",
              "      <th>O3</th>\n",
              "      <th>NO2</th>\n",
              "    </tr>\n",
              "  </thead>\n",
              "  <tbody>\n",
              "    <tr>\n",
              "      <th>count</th>\n",
              "      <td>2190.000000</td>\n",
              "      <td>2122.000000</td>\n",
              "      <td>2090.000000</td>\n",
              "      <td>2076.000000</td>\n",
              "      <td>2154.000000</td>\n",
              "      <td>2122.000000</td>\n",
              "      <td>2155.000000</td>\n",
              "    </tr>\n",
              "    <tr>\n",
              "      <th>mean</th>\n",
              "      <td>202123.192694</td>\n",
              "      <td>53.562205</td>\n",
              "      <td>80.655024</td>\n",
              "      <td>37.427746</td>\n",
              "      <td>13.020891</td>\n",
              "      <td>36.195570</td>\n",
              "      <td>21.204176</td>\n",
              "    </tr>\n",
              "    <tr>\n",
              "      <th>std</th>\n",
              "      <td>37.435498</td>\n",
              "      <td>14.683495</td>\n",
              "      <td>23.928070</td>\n",
              "      <td>12.676022</td>\n",
              "      <td>6.007584</td>\n",
              "      <td>19.150584</td>\n",
              "      <td>9.915056</td>\n",
              "    </tr>\n",
              "    <tr>\n",
              "      <th>min</th>\n",
              "      <td>202101.000000</td>\n",
              "      <td>14.000000</td>\n",
              "      <td>13.000000</td>\n",
              "      <td>2.000000</td>\n",
              "      <td>2.000000</td>\n",
              "      <td>7.000000</td>\n",
              "      <td>1.000000</td>\n",
              "    </tr>\n",
              "    <tr>\n",
              "      <th>25%</th>\n",
              "      <td>202104.000000</td>\n",
              "      <td>45.000000</td>\n",
              "      <td>65.000000</td>\n",
              "      <td>27.000000</td>\n",
              "      <td>9.000000</td>\n",
              "      <td>23.000000</td>\n",
              "      <td>14.000000</td>\n",
              "    </tr>\n",
              "    <tr>\n",
              "      <th>50%</th>\n",
              "      <td>202108.000000</td>\n",
              "      <td>55.000000</td>\n",
              "      <td>80.000000</td>\n",
              "      <td>39.000000</td>\n",
              "      <td>12.000000</td>\n",
              "      <td>31.000000</td>\n",
              "      <td>20.000000</td>\n",
              "    </tr>\n",
              "    <tr>\n",
              "      <th>75%</th>\n",
              "      <td>202111.000000</td>\n",
              "      <td>63.000000</td>\n",
              "      <td>95.000000</td>\n",
              "      <td>48.000000</td>\n",
              "      <td>16.000000</td>\n",
              "      <td>45.000000</td>\n",
              "      <td>27.000000</td>\n",
              "    </tr>\n",
              "    <tr>\n",
              "      <th>max</th>\n",
              "      <td>202212.000000</td>\n",
              "      <td>179.000000</td>\n",
              "      <td>174.000000</td>\n",
              "      <td>82.000000</td>\n",
              "      <td>55.000000</td>\n",
              "      <td>181.000000</td>\n",
              "      <td>65.000000</td>\n",
              "    </tr>\n",
              "  </tbody>\n",
              "</table>\n",
              "</div>\n",
              "    <div class=\"colab-df-buttons\">\n",
              "\n",
              "  <div class=\"colab-df-container\">\n",
              "    <button class=\"colab-df-convert\" onclick=\"convertToInteractive('df-e7cffe31-b90d-460f-8113-9499c8225203')\"\n",
              "            title=\"Convert this dataframe to an interactive table.\"\n",
              "            style=\"display:none;\">\n",
              "\n",
              "  <svg xmlns=\"http://www.w3.org/2000/svg\" height=\"24px\" viewBox=\"0 -960 960 960\">\n",
              "    <path d=\"M120-120v-720h720v720H120Zm60-500h600v-160H180v160Zm220 220h160v-160H400v160Zm0 220h160v-160H400v160ZM180-400h160v-160H180v160Zm440 0h160v-160H620v160ZM180-180h160v-160H180v160Zm440 0h160v-160H620v160Z\"/>\n",
              "  </svg>\n",
              "    </button>\n",
              "\n",
              "  <style>\n",
              "    .colab-df-container {\n",
              "      display:flex;\n",
              "      gap: 12px;\n",
              "    }\n",
              "\n",
              "    .colab-df-convert {\n",
              "      background-color: #E8F0FE;\n",
              "      border: none;\n",
              "      border-radius: 50%;\n",
              "      cursor: pointer;\n",
              "      display: none;\n",
              "      fill: #1967D2;\n",
              "      height: 32px;\n",
              "      padding: 0 0 0 0;\n",
              "      width: 32px;\n",
              "    }\n",
              "\n",
              "    .colab-df-convert:hover {\n",
              "      background-color: #E2EBFA;\n",
              "      box-shadow: 0px 1px 2px rgba(60, 64, 67, 0.3), 0px 1px 3px 1px rgba(60, 64, 67, 0.15);\n",
              "      fill: #174EA6;\n",
              "    }\n",
              "\n",
              "    .colab-df-buttons div {\n",
              "      margin-bottom: 4px;\n",
              "    }\n",
              "\n",
              "    [theme=dark] .colab-df-convert {\n",
              "      background-color: #3B4455;\n",
              "      fill: #D2E3FC;\n",
              "    }\n",
              "\n",
              "    [theme=dark] .colab-df-convert:hover {\n",
              "      background-color: #434B5C;\n",
              "      box-shadow: 0px 1px 3px 1px rgba(0, 0, 0, 0.15);\n",
              "      filter: drop-shadow(0px 1px 2px rgba(0, 0, 0, 0.3));\n",
              "      fill: #FFFFFF;\n",
              "    }\n",
              "  </style>\n",
              "\n",
              "    <script>\n",
              "      const buttonEl =\n",
              "        document.querySelector('#df-e7cffe31-b90d-460f-8113-9499c8225203 button.colab-df-convert');\n",
              "      buttonEl.style.display =\n",
              "        google.colab.kernel.accessAllowed ? 'block' : 'none';\n",
              "\n",
              "      async function convertToInteractive(key) {\n",
              "        const element = document.querySelector('#df-e7cffe31-b90d-460f-8113-9499c8225203');\n",
              "        const dataTable =\n",
              "          await google.colab.kernel.invokeFunction('convertToInteractive',\n",
              "                                                    [key], {});\n",
              "        if (!dataTable) return;\n",
              "\n",
              "        const docLinkHtml = 'Like what you see? Visit the ' +\n",
              "          '<a target=\"_blank\" href=https://colab.research.google.com/notebooks/data_table.ipynb>data table notebook</a>'\n",
              "          + ' to learn more about interactive tables.';\n",
              "        element.innerHTML = '';\n",
              "        dataTable['output_type'] = 'display_data';\n",
              "        await google.colab.output.renderOutput(dataTable, element);\n",
              "        const docLink = document.createElement('div');\n",
              "        docLink.innerHTML = docLinkHtml;\n",
              "        element.appendChild(docLink);\n",
              "      }\n",
              "    </script>\n",
              "  </div>\n",
              "\n",
              "\n",
              "<div id=\"df-df1ecdd4-eb8e-49e4-95e8-817ffd8edba0\">\n",
              "  <button class=\"colab-df-quickchart\" onclick=\"quickchart('df-df1ecdd4-eb8e-49e4-95e8-817ffd8edba0')\"\n",
              "            title=\"Suggest charts\"\n",
              "            style=\"display:none;\">\n",
              "\n",
              "<svg xmlns=\"http://www.w3.org/2000/svg\" height=\"24px\"viewBox=\"0 0 24 24\"\n",
              "     width=\"24px\">\n",
              "    <g>\n",
              "        <path d=\"M19 3H5c-1.1 0-2 .9-2 2v14c0 1.1.9 2 2 2h14c1.1 0 2-.9 2-2V5c0-1.1-.9-2-2-2zM9 17H7v-7h2v7zm4 0h-2V7h2v10zm4 0h-2v-4h2v4z\"/>\n",
              "    </g>\n",
              "</svg>\n",
              "  </button>\n",
              "\n",
              "<style>\n",
              "  .colab-df-quickchart {\n",
              "      --bg-color: #E8F0FE;\n",
              "      --fill-color: #1967D2;\n",
              "      --hover-bg-color: #E2EBFA;\n",
              "      --hover-fill-color: #174EA6;\n",
              "      --disabled-fill-color: #AAA;\n",
              "      --disabled-bg-color: #DDD;\n",
              "  }\n",
              "\n",
              "  [theme=dark] .colab-df-quickchart {\n",
              "      --bg-color: #3B4455;\n",
              "      --fill-color: #D2E3FC;\n",
              "      --hover-bg-color: #434B5C;\n",
              "      --hover-fill-color: #FFFFFF;\n",
              "      --disabled-bg-color: #3B4455;\n",
              "      --disabled-fill-color: #666;\n",
              "  }\n",
              "\n",
              "  .colab-df-quickchart {\n",
              "    background-color: var(--bg-color);\n",
              "    border: none;\n",
              "    border-radius: 50%;\n",
              "    cursor: pointer;\n",
              "    display: none;\n",
              "    fill: var(--fill-color);\n",
              "    height: 32px;\n",
              "    padding: 0;\n",
              "    width: 32px;\n",
              "  }\n",
              "\n",
              "  .colab-df-quickchart:hover {\n",
              "    background-color: var(--hover-bg-color);\n",
              "    box-shadow: 0 1px 2px rgba(60, 64, 67, 0.3), 0 1px 3px 1px rgba(60, 64, 67, 0.15);\n",
              "    fill: var(--button-hover-fill-color);\n",
              "  }\n",
              "\n",
              "  .colab-df-quickchart-complete:disabled,\n",
              "  .colab-df-quickchart-complete:disabled:hover {\n",
              "    background-color: var(--disabled-bg-color);\n",
              "    fill: var(--disabled-fill-color);\n",
              "    box-shadow: none;\n",
              "  }\n",
              "\n",
              "  .colab-df-spinner {\n",
              "    border: 2px solid var(--fill-color);\n",
              "    border-color: transparent;\n",
              "    border-bottom-color: var(--fill-color);\n",
              "    animation:\n",
              "      spin 1s steps(1) infinite;\n",
              "  }\n",
              "\n",
              "  @keyframes spin {\n",
              "    0% {\n",
              "      border-color: transparent;\n",
              "      border-bottom-color: var(--fill-color);\n",
              "      border-left-color: var(--fill-color);\n",
              "    }\n",
              "    20% {\n",
              "      border-color: transparent;\n",
              "      border-left-color: var(--fill-color);\n",
              "      border-top-color: var(--fill-color);\n",
              "    }\n",
              "    30% {\n",
              "      border-color: transparent;\n",
              "      border-left-color: var(--fill-color);\n",
              "      border-top-color: var(--fill-color);\n",
              "      border-right-color: var(--fill-color);\n",
              "    }\n",
              "    40% {\n",
              "      border-color: transparent;\n",
              "      border-right-color: var(--fill-color);\n",
              "      border-top-color: var(--fill-color);\n",
              "    }\n",
              "    60% {\n",
              "      border-color: transparent;\n",
              "      border-right-color: var(--fill-color);\n",
              "    }\n",
              "    80% {\n",
              "      border-color: transparent;\n",
              "      border-right-color: var(--fill-color);\n",
              "      border-bottom-color: var(--fill-color);\n",
              "    }\n",
              "    90% {\n",
              "      border-color: transparent;\n",
              "      border-bottom-color: var(--fill-color);\n",
              "    }\n",
              "  }\n",
              "</style>\n",
              "\n",
              "  <script>\n",
              "    async function quickchart(key) {\n",
              "      const quickchartButtonEl =\n",
              "        document.querySelector('#' + key + ' button');\n",
              "      quickchartButtonEl.disabled = true;  // To prevent multiple clicks.\n",
              "      quickchartButtonEl.classList.add('colab-df-spinner');\n",
              "      try {\n",
              "        const charts = await google.colab.kernel.invokeFunction(\n",
              "            'suggestCharts', [key], {});\n",
              "      } catch (error) {\n",
              "        console.error('Error during call to suggestCharts:', error);\n",
              "      }\n",
              "      quickchartButtonEl.classList.remove('colab-df-spinner');\n",
              "      quickchartButtonEl.classList.add('colab-df-quickchart-complete');\n",
              "    }\n",
              "    (() => {\n",
              "      let quickchartButtonEl =\n",
              "        document.querySelector('#df-df1ecdd4-eb8e-49e4-95e8-817ffd8edba0 button');\n",
              "      quickchartButtonEl.style.display =\n",
              "        google.colab.kernel.accessAllowed ? 'block' : 'none';\n",
              "    })();\n",
              "  </script>\n",
              "</div>\n",
              "\n",
              "    </div>\n",
              "  </div>\n"
            ],
            "application/vnd.google.colaboratory.intrinsic+json": {
              "type": "dataframe",
              "summary": "{\n  \"name\": \"df\",\n  \"rows\": 8,\n  \"fields\": [\n    {\n      \"column\": \"Periode Data\",\n      \"properties\": {\n        \"dtype\": \"number\",\n        \"std\": 93052.63728255894,\n        \"min\": 37.43549764368747,\n        \"max\": 202212.0,\n        \"num_unique_values\": 8,\n        \"samples\": [\n          202123.19269406394,\n          202108.0,\n          2190.0\n        ],\n        \"semantic_type\": \"\",\n        \"description\": \"\"\n      }\n    },\n    {\n      \"column\": \"PM10\",\n      \"properties\": {\n        \"dtype\": \"number\",\n        \"std\": 730.6360847815735,\n        \"min\": 14.0,\n        \"max\": 2122.0,\n        \"num_unique_values\": 8,\n        \"samples\": [\n          53.562205466541,\n          55.0,\n          2122.0\n        ],\n        \"semantic_type\": \"\",\n        \"description\": \"\"\n      }\n    },\n    {\n      \"column\": \"PM2,5\",\n      \"properties\": {\n        \"dtype\": \"number\",\n        \"std\": 713.7612191211686,\n        \"min\": 13.0,\n        \"max\": 2090.0,\n        \"num_unique_values\": 8,\n        \"samples\": [\n          80.65502392344497,\n          80.0,\n          2090.0\n        ],\n        \"semantic_type\": \"\",\n        \"description\": \"\"\n      }\n    },\n    {\n      \"column\": \"SO2\",\n      \"properties\": {\n        \"dtype\": \"number\",\n        \"std\": 721.846563389285,\n        \"min\": 2.0,\n        \"max\": 2076.0,\n        \"num_unique_values\": 8,\n        \"samples\": [\n          37.42774566473989,\n          39.0,\n          2076.0\n        ],\n        \"semantic_type\": \"\",\n        \"description\": \"\"\n      }\n    },\n    {\n      \"column\": \"CO\",\n      \"properties\": {\n        \"dtype\": \"number\",\n        \"std\": 756.023844224549,\n        \"min\": 2.0,\n        \"max\": 2154.0,\n        \"num_unique_values\": 8,\n        \"samples\": [\n          13.020891364902507,\n          12.0,\n          2154.0\n        ],\n        \"semantic_type\": \"\",\n        \"description\": \"\"\n      }\n    },\n    {\n      \"column\": \"O3\",\n      \"properties\": {\n        \"dtype\": \"number\",\n        \"std\": 735.0180384937338,\n        \"min\": 7.0,\n        \"max\": 2122.0,\n        \"num_unique_values\": 8,\n        \"samples\": [\n          36.19557021677662,\n          31.0,\n          2122.0\n        ],\n        \"semantic_type\": \"\",\n        \"description\": \"\"\n      }\n    },\n    {\n      \"column\": \"NO2\",\n      \"properties\": {\n        \"dtype\": \"number\",\n        \"std\": 754.1607305431368,\n        \"min\": 1.0,\n        \"max\": 2155.0,\n        \"num_unique_values\": 8,\n        \"samples\": [\n          21.20417633410673,\n          20.0,\n          2155.0\n        ],\n        \"semantic_type\": \"\",\n        \"description\": \"\"\n      }\n    }\n  ]\n}"
            }
          },
          "metadata": {},
          "execution_count": 6
        }
      ],
      "source": [
        "df.describe()"
      ]
    },
    {
      "cell_type": "code",
      "execution_count": null,
      "id": "4a218c4b-6c57-47d0-9c53-45033c0a2a5f",
      "metadata": {
        "colab": {
          "base_uri": "https://localhost:8080/",
          "height": 460
        },
        "id": "4a218c4b-6c57-47d0-9c53-45033c0a2a5f",
        "outputId": "a61b454a-e4aa-4a69-de35-ccc64fc361c3"
      },
      "outputs": [
        {
          "output_type": "execute_result",
          "data": {
            "text/plain": [
              "Periode Data      0\n",
              "Tanggal           0\n",
              "Stasiun           0\n",
              "PM10             68\n",
              "PM2,5           100\n",
              "SO2             114\n",
              "CO               36\n",
              "O3               68\n",
              "NO2              35\n",
              "MAX               0\n",
              "Critical         17\n",
              "Category          1\n",
              "dtype: int64"
            ],
            "text/html": [
              "<div>\n",
              "<style scoped>\n",
              "    .dataframe tbody tr th:only-of-type {\n",
              "        vertical-align: middle;\n",
              "    }\n",
              "\n",
              "    .dataframe tbody tr th {\n",
              "        vertical-align: top;\n",
              "    }\n",
              "\n",
              "    .dataframe thead th {\n",
              "        text-align: right;\n",
              "    }\n",
              "</style>\n",
              "<table border=\"1\" class=\"dataframe\">\n",
              "  <thead>\n",
              "    <tr style=\"text-align: right;\">\n",
              "      <th></th>\n",
              "      <th>0</th>\n",
              "    </tr>\n",
              "  </thead>\n",
              "  <tbody>\n",
              "    <tr>\n",
              "      <th>Periode Data</th>\n",
              "      <td>0</td>\n",
              "    </tr>\n",
              "    <tr>\n",
              "      <th>Tanggal</th>\n",
              "      <td>0</td>\n",
              "    </tr>\n",
              "    <tr>\n",
              "      <th>Stasiun</th>\n",
              "      <td>0</td>\n",
              "    </tr>\n",
              "    <tr>\n",
              "      <th>PM10</th>\n",
              "      <td>68</td>\n",
              "    </tr>\n",
              "    <tr>\n",
              "      <th>PM2,5</th>\n",
              "      <td>100</td>\n",
              "    </tr>\n",
              "    <tr>\n",
              "      <th>SO2</th>\n",
              "      <td>114</td>\n",
              "    </tr>\n",
              "    <tr>\n",
              "      <th>CO</th>\n",
              "      <td>36</td>\n",
              "    </tr>\n",
              "    <tr>\n",
              "      <th>O3</th>\n",
              "      <td>68</td>\n",
              "    </tr>\n",
              "    <tr>\n",
              "      <th>NO2</th>\n",
              "      <td>35</td>\n",
              "    </tr>\n",
              "    <tr>\n",
              "      <th>MAX</th>\n",
              "      <td>0</td>\n",
              "    </tr>\n",
              "    <tr>\n",
              "      <th>Critical</th>\n",
              "      <td>17</td>\n",
              "    </tr>\n",
              "    <tr>\n",
              "      <th>Category</th>\n",
              "      <td>1</td>\n",
              "    </tr>\n",
              "  </tbody>\n",
              "</table>\n",
              "</div><br><label><b>dtype:</b> int64</label>"
            ]
          },
          "metadata": {},
          "execution_count": 7
        }
      ],
      "source": [
        "df.isnull().sum()"
      ]
    },
    {
      "cell_type": "markdown",
      "id": "7d44481f-1b42-4641-b005-713301e63bc7",
      "metadata": {
        "id": "7d44481f-1b42-4641-b005-713301e63bc7"
      },
      "source": [
        "## Delete Attribute Periode Data, Tanggal, Stasiun, Critical"
      ]
    },
    {
      "cell_type": "code",
      "execution_count": null,
      "id": "36kUX7lzFpbx",
      "metadata": {
        "colab": {
          "base_uri": "https://localhost:8080/"
        },
        "id": "36kUX7lzFpbx",
        "outputId": "f7d8ec71-198f-411e-9498-f3f0aab65352"
      },
      "outputs": [
        {
          "output_type": "execute_result",
          "data": {
            "text/plain": [
              "array(['BAIK', 'SEDANG', 'TIDAK SEHAT', 'TIDAK ADA DATA', nan],\n",
              "      dtype=object)"
            ]
          },
          "metadata": {},
          "execution_count": 8
        }
      ],
      "source": [
        "df['Category'].unique()"
      ]
    },
    {
      "cell_type": "code",
      "source": [
        "category_counts = df['Category'].value_counts()\n",
        "print(category_counts)"
      ],
      "metadata": {
        "id": "hvrlmPAFUXaS",
        "colab": {
          "base_uri": "https://localhost:8080/"
        },
        "outputId": "862ec4ec-df81-48a4-cd7e-5f5aaabc4e70"
      },
      "id": "hvrlmPAFUXaS",
      "execution_count": null,
      "outputs": [
        {
          "output_type": "stream",
          "name": "stdout",
          "text": [
            "Category\n",
            "SEDANG            1574\n",
            "TIDAK SEHAT        409\n",
            "BAIK               190\n",
            "TIDAK ADA DATA      16\n",
            "Name: count, dtype: int64\n"
          ]
        }
      ]
    },
    {
      "cell_type": "code",
      "execution_count": null,
      "id": "3fcc1391-d8bb-4942-9b0d-8a58ae708d0a",
      "metadata": {
        "id": "3fcc1391-d8bb-4942-9b0d-8a58ae708d0a"
      },
      "outputs": [],
      "source": [
        "df = df.drop(columns=['Periode Data','Tanggal','Stasiun','MAX','Critical'])"
      ]
    },
    {
      "cell_type": "code",
      "execution_count": null,
      "id": "f4f03307-c3ba-467a-abe9-f73631fd3316",
      "metadata": {
        "id": "f4f03307-c3ba-467a-abe9-f73631fd3316"
      },
      "outputs": [],
      "source": [
        "df.head(3)"
      ]
    },
    {
      "cell_type": "markdown",
      "id": "3Ly_3s7yJZtH",
      "metadata": {
        "id": "3Ly_3s7yJZtH"
      },
      "source": [
        "## Delete Row dengan Kategori \"TIDAK ADA DATA\""
      ]
    },
    {
      "cell_type": "code",
      "execution_count": null,
      "id": "985qaEyIJg76",
      "metadata": {
        "id": "985qaEyIJg76"
      },
      "outputs": [],
      "source": [
        "df = df[df['Category'] != \"TIDAK ADA DATA\"]"
      ]
    },
    {
      "cell_type": "code",
      "execution_count": null,
      "id": "SDdB_S8CKEoR",
      "metadata": {
        "id": "SDdB_S8CKEoR"
      },
      "outputs": [],
      "source": [
        "df['Category'].unique()"
      ]
    },
    {
      "cell_type": "markdown",
      "id": "71504d6f-fe44-41c2-b3ee-f2fbb46c0ad1",
      "metadata": {
        "id": "71504d6f-fe44-41c2-b3ee-f2fbb46c0ad1"
      },
      "source": [
        "## Handling Missing Value"
      ]
    },
    {
      "cell_type": "code",
      "execution_count": null,
      "id": "ml-H3kLAIkD9",
      "metadata": {
        "id": "ml-H3kLAIkD9"
      },
      "outputs": [],
      "source": [
        "df.isnull().sum()"
      ]
    },
    {
      "cell_type": "code",
      "execution_count": null,
      "id": "D_eCmf7_Ij1T",
      "metadata": {
        "id": "D_eCmf7_Ij1T"
      },
      "outputs": [],
      "source": [
        "df = df.dropna(subset=['Category'])"
      ]
    },
    {
      "cell_type": "code",
      "execution_count": null,
      "id": "ZRc4INuLJGct",
      "metadata": {
        "id": "ZRc4INuLJGct"
      },
      "outputs": [],
      "source": [
        "df.isnull().sum()"
      ]
    },
    {
      "cell_type": "code",
      "execution_count": null,
      "id": "svEpy2R8L42C",
      "metadata": {
        "id": "svEpy2R8L42C"
      },
      "outputs": [],
      "source": [
        "# Using Imputation According to Category\n",
        "df['PM10'] = df.groupby('Category')['PM10'].transform(lambda x: x.fillna(x.median()))\n",
        "df['PM2,5'] = df.groupby('Category')['PM2,5'].transform(lambda x: x.fillna(x.median()))\n",
        "df['SO2'] = df.groupby('Category')['SO2'].transform(lambda x: x.fillna(x.median()))\n",
        "df['CO'] = df.groupby('Category')['CO'].transform(lambda x: x.fillna(x.median()))\n",
        "df['O3'] = df.groupby('Category')['O3'].transform(lambda x: x.fillna(x.median()))\n",
        "df['NO2'] = df.groupby('Category')['NO2'].transform(lambda x: x.fillna(x.median()))"
      ]
    },
    {
      "cell_type": "code",
      "execution_count": null,
      "id": "DqA09Li2MwdW",
      "metadata": {
        "id": "DqA09Li2MwdW"
      },
      "outputs": [],
      "source": [
        "df.isnull().sum()"
      ]
    },
    {
      "cell_type": "markdown",
      "id": "06a4f6b1-6d62-4eea-a6ff-a395801bbbca",
      "metadata": {
        "id": "06a4f6b1-6d62-4eea-a6ff-a395801bbbca"
      },
      "source": [
        "## Detecting and Handling Outlier"
      ]
    },
    {
      "cell_type": "code",
      "execution_count": null,
      "id": "37578fe9-dd88-4e20-9010-a612529fd0d5",
      "metadata": {
        "id": "37578fe9-dd88-4e20-9010-a612529fd0d5"
      },
      "outputs": [],
      "source": [
        "# detecting using boxplot (seaborn)\n",
        "columns = [col for col in df.columns if col != 'Category']\n",
        "n = len(columns)\n",
        "rows = (n + 1) // 2\n",
        "\n",
        "plt.figure(figsize=(12, rows * 2))\n",
        "for i, column in enumerate(columns, 1):\n",
        "    plt.subplot(rows, 2, i)\n",
        "    sns.boxplot(data=df, x=column)\n",
        "    plt.title(f'Boxplot of {column}')\n",
        "    plt.tight_layout()\n",
        "\n",
        "# Show the plot\n",
        "plt.show()"
      ]
    },
    {
      "cell_type": "markdown",
      "id": "87f7c6a0-8e6b-42a2-9663-50e53c01d29d",
      "metadata": {
        "id": "87f7c6a0-8e6b-42a2-9663-50e53c01d29d"
      },
      "source": [
        "> #### Tidak Perlu Handling Outliers Karena Data Outliers Masuk Akal"
      ]
    },
    {
      "cell_type": "markdown",
      "id": "ec02dcdf-01e4-42d5-b07a-3b494718f93d",
      "metadata": {
        "id": "ec02dcdf-01e4-42d5-b07a-3b494718f93d"
      },
      "source": [
        "## DATA TRANSFORMATION"
      ]
    },
    {
      "cell_type": "code",
      "execution_count": null,
      "id": "b754b2a0-af12-44d1-bcf3-b2a71f375813",
      "metadata": {
        "id": "b754b2a0-af12-44d1-bcf3-b2a71f375813"
      },
      "outputs": [],
      "source": [
        "Category = {\"TIDAK SEHAT\":1, \"SEDANG\":2, \"BAIK\":3}\n",
        "df[\"Category\"]=df[\"Category\"].map(Category)"
      ]
    },
    {
      "cell_type": "markdown",
      "id": "79fab690-6537-4e2c-ba5c-bf9acc7ef3a9",
      "metadata": {
        "id": "79fab690-6537-4e2c-ba5c-bf9acc7ef3a9"
      },
      "source": [
        "## Feature Selection"
      ]
    },
    {
      "cell_type": "code",
      "execution_count": null,
      "id": "ea5a53db-dd0a-4ad5-b7cf-82ab70aae7b4",
      "metadata": {
        "id": "ea5a53db-dd0a-4ad5-b7cf-82ab70aae7b4"
      },
      "outputs": [],
      "source": [
        "def ISPU_Correlation(df):\n",
        "    correlation = df.corr()\n",
        "    sns.heatmap(correlation, annot=True, cbar=True, cmap=\"RdYlGn\")"
      ]
    },
    {
      "cell_type": "code",
      "execution_count": null,
      "id": "37642974-964c-43be-85b0-3884e30facd8",
      "metadata": {
        "id": "37642974-964c-43be-85b0-3884e30facd8"
      },
      "outputs": [],
      "source": [
        "data_numerik = df.select_dtypes(include=['float64', 'int64'])\n",
        "ISPU_Correlation(data_numerik)"
      ]
    },
    {
      "cell_type": "markdown",
      "id": "55e672b3-5a6d-48b5-99ad-13a34c9cd2ad",
      "metadata": {
        "id": "55e672b3-5a6d-48b5-99ad-13a34c9cd2ad"
      },
      "source": [
        "> #### Dari Grafik Korelasi, semua atribut memiliki korelasi tinggi terhadap Category. Oleh karena itu semua atribut akan digunakan untuk membuat model klasifikasi"
      ]
    },
    {
      "cell_type": "markdown",
      "id": "e5cc181c-3d85-4040-9dce-8f97b1a494de",
      "metadata": {
        "id": "e5cc181c-3d85-4040-9dce-8f97b1a494de"
      },
      "source": [
        "# Pembuatan Model Klasifikasi"
      ]
    },
    {
      "cell_type": "markdown",
      "id": "b76e1642-f5bf-4829-9212-eac9e730e55f",
      "metadata": {
        "id": "b76e1642-f5bf-4829-9212-eac9e730e55f"
      },
      "source": [
        "### Algoritma yang digunakan\n",
        "> #### Decision Tree\n",
        "> > **Alasan:** Decision Tree bisa memberikan hasil yang baik dengan dataset ukuran ini dan memberikan visualisasi yang jelas tentang keputusan yang diambil.\n",
        "> #### Random Forest\n",
        "> > **Alasan:** Dibandingkan Decision Tree tunggal, Random Forest lebih tahan terhadap overfitting karena menggabungkan hasil dari banyak pohon (ensemble)."
      ]
    },
    {
      "cell_type": "code",
      "execution_count": null,
      "id": "637d8daf-81de-4197-bd48-4eee410c79ee",
      "metadata": {
        "id": "637d8daf-81de-4197-bd48-4eee410c79ee"
      },
      "outputs": [],
      "source": [
        "# Import Library Algorithm\n",
        "from sklearn.model_selection import train_test_split\n",
        "# Import Algorithm\n",
        "from sklearn.tree import DecisionTreeClassifier\n",
        "from sklearn.ensemble import RandomForestClassifier\n",
        "# Import Evaluation Model\n",
        "from sklearn import metrics\n",
        "from sklearn.metrics import classification_report, confusion_matrix\n",
        "# ROC AUC\n",
        "from sklearn.metrics import roc_auc_score, roc_curve\n",
        "import matplotlib.pyplot as plt\n",
        "plt.rc(\"font\", size=14)\n",
        "# import Crossval\n",
        "from sklearn.model_selection import cross_val_score"
      ]
    },
    {
      "cell_type": "code",
      "execution_count": null,
      "id": "9bfca4ff-7ed3-4b2d-ab0f-b68108853a10",
      "metadata": {
        "id": "9bfca4ff-7ed3-4b2d-ab0f-b68108853a10"
      },
      "outputs": [],
      "source": [
        "X = df[['PM10', 'PM2,5', 'SO2', 'CO', 'O3','NO2']]\n",
        "y = df['Category']"
      ]
    },
    {
      "cell_type": "markdown",
      "id": "c1ff20af-df7b-4eeb-a734-2a3dc38771dd",
      "metadata": {
        "id": "c1ff20af-df7b-4eeb-a734-2a3dc38771dd"
      },
      "source": [
        "## Skenario Perbandingan 70% -30%"
      ]
    },
    {
      "cell_type": "code",
      "execution_count": null,
      "id": "c9959b06-f2e5-4ec6-a8f7-c76f60f2d170",
      "metadata": {
        "id": "c9959b06-f2e5-4ec6-a8f7-c76f60f2d170"
      },
      "outputs": [],
      "source": [
        "# Splitting the data into training and testing sets (70% training, 30% testing)\n",
        "X_train, X_test, y_train, y_test = train_test_split(X, y, test_size=0.3, random_state=27)"
      ]
    },
    {
      "cell_type": "markdown",
      "id": "00729e24-5a89-4fe2-b005-b9e3d3b8e7c1",
      "metadata": {
        "id": "00729e24-5a89-4fe2-b005-b9e3d3b8e7c1"
      },
      "source": [
        "### Decission Tree Algorithm"
      ]
    },
    {
      "cell_type": "code",
      "execution_count": null,
      "id": "7e0f9a35-89f0-44ef-8b1c-55985d82c4d2",
      "metadata": {
        "id": "7e0f9a35-89f0-44ef-8b1c-55985d82c4d2"
      },
      "outputs": [],
      "source": [
        "# Initializing the Decision Tree model\n",
        "clf=DecisionTreeClassifier()\n",
        "# Fitting the model on the training data\n",
        "clf=clf.fit(X_train,y_train)\n",
        "# Making predictions on the test data\n",
        "y_pred=clf.predict(X_test)\n",
        "# Evaluating the model\n",
        "conf_matrix = confusion_matrix(y_test, y_pred)\n",
        "# Outputting the results\n",
        "print('Confusion Matrix:')\n",
        "print(conf_matrix)\n",
        "print('--------------')\n",
        "print('Classification Report:')\n",
        "print(classification_report(y_test, y_pred))"
      ]
    },
    {
      "cell_type": "markdown",
      "id": "a01dbba8-434a-42b5-975e-9ee0d72b55b5",
      "metadata": {
        "id": "a01dbba8-434a-42b5-975e-9ee0d72b55b5"
      },
      "source": [
        "### Random Forest"
      ]
    },
    {
      "cell_type": "code",
      "execution_count": null,
      "id": "84bdc875-db4f-41c3-a37c-89d5e6f26499",
      "metadata": {
        "id": "84bdc875-db4f-41c3-a37c-89d5e6f26499"
      },
      "outputs": [],
      "source": [
        "# Initializing the RandomForest\n",
        "modelfix = RandomForestClassifier()\n",
        "# Fitting the model on the training data\n",
        "modelfix = modelfix.fit(X_train, y_train)\n",
        "# Making predictions on the test data\n",
        "y_pred = modelfix.predict(X_test)\n",
        "# Evaluating the model\n",
        "conf_matrix = confusion_matrix(y_test, y_pred)\n",
        "# Outputting the results\n",
        "print('Confusion Matrix:')\n",
        "print(conf_matrix)\n",
        "print('--------------')\n",
        "print('Classification Report:')\n",
        "print(classification_report(y_test, y_pred))"
      ]
    },
    {
      "cell_type": "markdown",
      "id": "7686aef2-2c96-4fdc-b8c3-781024839a5b",
      "metadata": {
        "id": "7686aef2-2c96-4fdc-b8c3-781024839a5b"
      },
      "source": [
        "## Evaluasi Model Klasifikasi Skenario Perbandingan 70% -30%"
      ]
    },
    {
      "cell_type": "markdown",
      "id": "04d5774f-8a27-4c3f-8997-f58c06c4cc39",
      "metadata": {
        "id": "04d5774f-8a27-4c3f-8997-f58c06c4cc39"
      },
      "source": [
        "> ### HOLD - OUT"
      ]
    },
    {
      "cell_type": "code",
      "execution_count": null,
      "id": "585b4e39-7a06-4823-b6ed-39dfbd0a2501",
      "metadata": {
        "id": "585b4e39-7a06-4823-b6ed-39dfbd0a2501"
      },
      "outputs": [],
      "source": [
        "# Menghitung ROC-AUC untuk model Decision Tree\n",
        "dt_roc_auc = roc_auc_score(y_test, clf.predict_proba(X_test), multi_class='ovr', average='macro')\n",
        "\n",
        "# Membuat ROC curve untuk Decision Tree\n",
        "dt_fpr, dt_tpr, _ = roc_curve(y_test, clf.predict_proba(X_test)[:, 1], pos_label=clf.classes_[1])\n",
        "\n",
        "# Menghitung ROC-AUC untuk model Random Forest\n",
        "rf_roc_auc = roc_auc_score(y_test, modelfix.predict_proba(X_test), multi_class='ovr', average='macro')\n",
        "\n",
        "# Membuat ROC curve untuk Random Forest\n",
        "rf_fpr, rf_tpr, _ = roc_curve(y_test, modelfix.predict_proba(X_test)[:, 1], pos_label=modelfix.classes_[1])\n",
        "\n",
        "# Plotting ROC curve untuk Decision Tree dan Random Forest\n",
        "plt.figure()\n",
        "plt.plot(dt_fpr, dt_tpr, color='red', label=f'DT (AUC = {dt_roc_auc:.2f})')\n",
        "plt.plot(rf_fpr, rf_tpr, color='green', label=f'RF (AUC = {rf_roc_auc:.2f})')\n",
        "plt.plot([0, 1], [0, 1], color='gray', linestyle='--')  # Plot diagonal garis referensi\n",
        "plt.xlabel('False Positive Rate')\n",
        "plt.ylabel('True Positive Rate')\n",
        "plt.title('ROC Curve DT vs RF')\n",
        "plt.legend(loc='lower right')\n",
        "plt.show()"
      ]
    },
    {
      "cell_type": "markdown",
      "id": "c25f06d0-35c5-4109-a348-4976c8094243",
      "metadata": {
        "id": "c25f06d0-35c5-4109-a348-4976c8094243"
      },
      "source": [
        "> ### CROSS-VAL"
      ]
    },
    {
      "cell_type": "markdown",
      "id": "87da73e3-6196-4961-941b-4845f60a9ce9",
      "metadata": {
        "id": "87da73e3-6196-4961-941b-4845f60a9ce9"
      },
      "source": [
        "> > ###  Decision Tree"
      ]
    },
    {
      "cell_type": "code",
      "execution_count": null,
      "id": "5fa38ddc-ba6d-4783-a218-808ff1cc5178",
      "metadata": {
        "id": "5fa38ddc-ba6d-4783-a218-808ff1cc5178",
        "scrolled": true
      },
      "outputs": [],
      "source": [
        "scores_accuracy = cross_val_score(clf, X, y, cv=5, scoring=\"accuracy\")\n",
        "print(scores_accuracy)\n",
        "scores_precission = cross_val_score(clf, X, y, cv=5, scoring=\"precision_macro\")\n",
        "print(scores_precission)\n",
        "scores_recall = cross_val_score(clf, X, y, cv=5, scoring=\"recall_macro\")\n",
        "print(scores_recall)\n",
        "scores_f1 = cross_val_score(clf, X, y, cv=5, scoring=\"f1_macro\")\n",
        "print(scores_f1)"
      ]
    },
    {
      "cell_type": "code",
      "execution_count": null,
      "id": "30c38c21-82e4-45f7-9c3b-c43155f6e250",
      "metadata": {
        "id": "30c38c21-82e4-45f7-9c3b-c43155f6e250",
        "scrolled": true
      },
      "outputs": [],
      "source": [
        "print(\"Rata-rata Nilai Akurasi: %0.2f (+/- %0.2f)\" % (scores_accuracy.mean(), scores_accuracy.std()))\n",
        "print(\"Rata-rata Nilai Precision Macro: %0.2f (+/- %0.2f)\" % (scores_precission.mean(), scores_precission.std()))\n",
        "print(\"Rata-rata Nilai Recall Macro: %0.2f (+/- %0.2f)\" % (scores_recall.mean(), scores_recall.std()))\n",
        "print(\"Rata-rata Nilai F1 Macro: %0.2f (+/- %0.2f)\" % (scores_f1.mean(), scores_f1.std()))"
      ]
    },
    {
      "cell_type": "markdown",
      "metadata": {
        "id": "rlAinbdfU1fa"
      },
      "source": [
        "> > ###  Random Forest"
      ],
      "id": "rlAinbdfU1fa"
    },
    {
      "cell_type": "code",
      "execution_count": null,
      "metadata": {
        "scrolled": true,
        "id": "q3hjm6GBU66y"
      },
      "outputs": [],
      "source": [
        "scores_accuracy = cross_val_score(modelfix, X, y, cv=5, scoring=\"accuracy\")\n",
        "print(scores_accuracy)\n",
        "scores_precission = cross_val_score(modelfix, X, y, cv=5, scoring=\"precision_macro\")\n",
        "print(scores_precission)\n",
        "scores_recall = cross_val_score(modelfix, X, y, cv=5, scoring=\"recall_macro\")\n",
        "print(scores_recall)\n",
        "scores_f1 = cross_val_score(modelfix, X, y, cv=5, scoring=\"f1_macro\")\n",
        "print(scores_f1)"
      ],
      "id": "q3hjm6GBU66y"
    },
    {
      "cell_type": "code",
      "execution_count": null,
      "metadata": {
        "scrolled": true,
        "id": "yr_JMKXHVDGU"
      },
      "outputs": [],
      "source": [
        "print(\"Rata-rata Nilai Akurasi: %0.2f (+/- %0.2f)\" % (scores_accuracy.mean(), scores_accuracy.std()))\n",
        "print(\"Rata-rata Nilai Precision Macro: %0.2f (+/- %0.2f)\" % (scores_precission.mean(), scores_precission.std()))\n",
        "print(\"Rata-rata Nilai Recall Macro: %0.2f (+/- %0.2f)\" % (scores_recall.mean(), scores_recall.std()))\n",
        "print(\"Rata-rata Nilai F1 Macro: %0.2f (+/- %0.2f)\" % (scores_f1.mean(), scores_f1.std()))"
      ],
      "id": "yr_JMKXHVDGU"
    },
    {
      "cell_type": "markdown",
      "id": "789e9f6c-e597-4f44-8e6d-6962461f0d53",
      "metadata": {
        "id": "789e9f6c-e597-4f44-8e6d-6962461f0d53"
      },
      "source": [
        "## Skenario Perbandingan 60% - 40%"
      ]
    },
    {
      "cell_type": "code",
      "execution_count": null,
      "id": "09da4fe6-b425-4b54-a2e1-1cdaecfe91c8",
      "metadata": {
        "id": "09da4fe6-b425-4b54-a2e1-1cdaecfe91c8"
      },
      "outputs": [],
      "source": [
        "# Splitting the data into training and testing sets (60% training, 40% testing)\n",
        "X_train, X_test, y_train, y_test = train_test_split(X, y, test_size=0.4, random_state=27)"
      ]
    },
    {
      "cell_type": "markdown",
      "id": "5eb24022-39d0-4eeb-ad95-2d887115bdf9",
      "metadata": {
        "id": "5eb24022-39d0-4eeb-ad95-2d887115bdf9"
      },
      "source": [
        "### Decission Tree Algorithm"
      ]
    },
    {
      "cell_type": "code",
      "execution_count": null,
      "id": "92043f66-4959-4c9b-9fac-17e0c51d3b97",
      "metadata": {
        "id": "92043f66-4959-4c9b-9fac-17e0c51d3b97"
      },
      "outputs": [],
      "source": [
        "# Initializing the Decision Tree model\n",
        "clf=DecisionTreeClassifier()\n",
        "# Fitting the model on the training data\n",
        "clf=clf.fit(X_train,y_train)\n",
        "# Making predictions on the test data\n",
        "y_pred=clf.predict(X_test)\n",
        "# Evaluating the model\n",
        "conf_matrix = confusion_matrix(y_test, y_pred)\n",
        "# Outputting the results\n",
        "print('Confusion Matrix:')\n",
        "print(conf_matrix)\n",
        "print('--------------')\n",
        "print('Classification Report:')\n",
        "print(classification_report(y_test, y_pred))"
      ]
    },
    {
      "cell_type": "markdown",
      "id": "05e65020-5446-40fd-93c0-4aeea93aa329",
      "metadata": {
        "id": "05e65020-5446-40fd-93c0-4aeea93aa329"
      },
      "source": [
        "### Random Forest"
      ]
    },
    {
      "cell_type": "code",
      "execution_count": null,
      "id": "038ff9ec-db8f-46d3-911d-947f98f5aee7",
      "metadata": {
        "id": "038ff9ec-db8f-46d3-911d-947f98f5aee7"
      },
      "outputs": [],
      "source": [
        "# Initializing the RandomForest\n",
        "model = RandomForestClassifier()\n",
        "# Fitting the model on the training data\n",
        "model = model.fit(X_train, y_train)\n",
        "# Making predictions on the test data\n",
        "y_pred = model.predict(X_test)\n",
        "# Evaluating the model\n",
        "conf_matrix = confusion_matrix(y_test, y_pred)\n",
        "# Outputting the results\n",
        "print('Confusion Matrix:')\n",
        "print(conf_matrix)\n",
        "print('--------------')\n",
        "print('Classification Report:')\n",
        "print(classification_report(y_test, y_pred))"
      ]
    },
    {
      "cell_type": "markdown",
      "id": "71520c35-2156-4c14-b6bd-1311be9be0c6",
      "metadata": {
        "id": "71520c35-2156-4c14-b6bd-1311be9be0c6"
      },
      "source": [
        "## Evaluasi Model Klasifikasi Skenario Perbandingan 60% -40%"
      ]
    },
    {
      "cell_type": "markdown",
      "id": "478abb5f-100d-4c9d-aae6-0155308b8010",
      "metadata": {
        "id": "478abb5f-100d-4c9d-aae6-0155308b8010"
      },
      "source": [
        "> ### HOLD - OUT"
      ]
    },
    {
      "cell_type": "code",
      "execution_count": null,
      "id": "260734df-e147-4b97-b835-9a3522c07663",
      "metadata": {
        "id": "260734df-e147-4b97-b835-9a3522c07663"
      },
      "outputs": [],
      "source": [
        "# Menghitung ROC-AUC untuk model Decision Tree\n",
        "dt_roc_auc = roc_auc_score(y_test, clf.predict_proba(X_test), multi_class='ovr', average='macro')\n",
        "\n",
        "# Membuat ROC curve untuk Decision Tree\n",
        "dt_fpr, dt_tpr, _ = roc_curve(y_test, clf.predict_proba(X_test)[:, 1], pos_label=clf.classes_[1])\n",
        "\n",
        "# Menghitung ROC-AUC untuk model Random Forest\n",
        "rf_roc_auc = roc_auc_score(y_test, model.predict_proba(X_test), multi_class='ovr', average='macro')\n",
        "\n",
        "# Membuat ROC curve untuk Random Forest\n",
        "rf_fpr, rf_tpr, _ = roc_curve(y_test, model.predict_proba(X_test)[:, 1], pos_label=model.classes_[1])\n",
        "\n",
        "# Plotting ROC curve untuk Decision Tree dan Random Forest\n",
        "plt.figure()\n",
        "plt.plot(dt_fpr, dt_tpr, color='red', label=f'DT (AUC = {dt_roc_auc:.2f})')\n",
        "plt.plot(rf_fpr, rf_tpr, color='green', label=f'RF (AUC = {rf_roc_auc:.2f})')\n",
        "plt.plot([0, 1], [0, 1], color='gray', linestyle='--')  # Plot diagonal garis referensi\n",
        "plt.xlabel('False Positive Rate')\n",
        "plt.ylabel('True Positive Rate')\n",
        "plt.title('ROC Curve DT vs RF')\n",
        "plt.legend(loc='lower right')\n",
        "plt.show()"
      ]
    },
    {
      "cell_type": "markdown",
      "id": "5c1aa57e-7295-4481-ae40-dace19bf4ee9",
      "metadata": {
        "id": "5c1aa57e-7295-4481-ae40-dace19bf4ee9"
      },
      "source": [
        "> ### CROSS-VAL"
      ]
    },
    {
      "cell_type": "markdown",
      "metadata": {
        "id": "nlDv9OrLVkZu"
      },
      "source": [
        "> > ###  Decision Tree"
      ],
      "id": "nlDv9OrLVkZu"
    },
    {
      "cell_type": "code",
      "execution_count": null,
      "metadata": {
        "scrolled": true,
        "id": "OcrEFIgxVkaH"
      },
      "outputs": [],
      "source": [
        "scores_accuracy = cross_val_score(clf, X, y, cv=5, scoring=\"accuracy\")\n",
        "print(scores_accuracy)\n",
        "scores_precission = cross_val_score(clf, X, y, cv=5, scoring=\"precision_macro\")\n",
        "print(scores_precission)\n",
        "scores_recall = cross_val_score(clf, X, y, cv=5, scoring=\"recall_macro\")\n",
        "print(scores_recall)\n",
        "scores_f1 = cross_val_score(clf, X, y, cv=5, scoring=\"f1_macro\")\n",
        "print(scores_f1)"
      ],
      "id": "OcrEFIgxVkaH"
    },
    {
      "cell_type": "code",
      "execution_count": null,
      "metadata": {
        "scrolled": true,
        "id": "vy3rfhKSVkaI"
      },
      "outputs": [],
      "source": [
        "print(\"Rata-rata Nilai Akurasi: %0.2f (+/- %0.2f)\" % (scores_accuracy.mean(), scores_accuracy.std()))\n",
        "print(\"Rata-rata Nilai Precision Macro: %0.2f (+/- %0.2f)\" % (scores_precission.mean(), scores_precission.std()))\n",
        "print(\"Rata-rata Nilai Recall Macro: %0.2f (+/- %0.2f)\" % (scores_recall.mean(), scores_recall.std()))\n",
        "print(\"Rata-rata Nilai F1 Macro: %0.2f (+/- %0.2f)\" % (scores_f1.mean(), scores_f1.std()))"
      ],
      "id": "vy3rfhKSVkaI"
    },
    {
      "cell_type": "markdown",
      "metadata": {
        "id": "vwUUVhUyVkaI"
      },
      "source": [
        "> > ###  Random Forest"
      ],
      "id": "vwUUVhUyVkaI"
    },
    {
      "cell_type": "code",
      "execution_count": null,
      "metadata": {
        "scrolled": true,
        "id": "CT6Dul1zVkaJ"
      },
      "outputs": [],
      "source": [
        "scores_accuracy = cross_val_score(model, X, y, cv=5, scoring=\"accuracy\")\n",
        "print(scores_accuracy)\n",
        "scores_precission = cross_val_score(model, X, y, cv=5, scoring=\"precision_macro\")\n",
        "print(scores_precission)\n",
        "scores_recall = cross_val_score(model, X, y, cv=5, scoring=\"recall_macro\")\n",
        "print(scores_recall)\n",
        "scores_f1 = cross_val_score(model, X, y, cv=5, scoring=\"f1_macro\")\n",
        "print(scores_f1)"
      ],
      "id": "CT6Dul1zVkaJ"
    },
    {
      "cell_type": "code",
      "execution_count": null,
      "metadata": {
        "scrolled": true,
        "id": "yLo_Tk0qVkaJ"
      },
      "outputs": [],
      "source": [
        "print(\"Rata-rata Nilai Akurasi: %0.2f (+/- %0.2f)\" % (scores_accuracy.mean(), scores_accuracy.std()))\n",
        "print(\"Rata-rata Nilai Precision Macro: %0.2f (+/- %0.2f)\" % (scores_precission.mean(), scores_precission.std()))\n",
        "print(\"Rata-rata Nilai Recall Macro: %0.2f (+/- %0.2f)\" % (scores_recall.mean(), scores_recall.std()))\n",
        "print(\"Rata-rata Nilai F1 Macro: %0.2f (+/- %0.2f)\" % (scores_f1.mean(), scores_f1.std()))"
      ],
      "id": "yLo_Tk0qVkaJ"
    },
    {
      "cell_type": "markdown",
      "id": "2ed814d7-9549-441e-bc46-d21c27b3b52c",
      "metadata": {
        "id": "2ed814d7-9549-441e-bc46-d21c27b3b52c"
      },
      "source": [
        "# MODEL TERBAIK UNTUK DEPLOYMENT"
      ]
    },
    {
      "cell_type": "markdown",
      "id": "9c5d29c1-25a8-4b22-ab44-2cf69bddd275",
      "metadata": {
        "id": "9c5d29c1-25a8-4b22-ab44-2cf69bddd275"
      },
      "source": [
        "# TERPILIH : RANDOM FOREST (70-30)"
      ]
    }
  ],
  "metadata": {
    "colab": {
      "provenance": []
    },
    "kernelspec": {
      "display_name": "Python 3 (ipykernel)",
      "language": "python",
      "name": "python3"
    },
    "language_info": {
      "codemirror_mode": {
        "name": "ipython",
        "version": 3
      },
      "file_extension": ".py",
      "mimetype": "text/x-python",
      "name": "python",
      "nbconvert_exporter": "python",
      "pygments_lexer": "ipython3",
      "version": "3.12.4"
    },
    "panel-cell-order": [
      "c018978a-7c0b-4ed1-b076-43d11b28c088",
      "ee60797d-936f-4eb3-8b10-9cfe4236c782",
      "5d316e36-470f-43a8-a422-2670ba8db4d5",
      "9a14ffa9-af9c-4dd9-96d7-4dc7eedfe0d0",
      "5ba441d5-663e-4816-b6a5-7b17989c4ee1",
      "7e8eb5f6-f352-486e-8dae-2c46cd329274",
      "52b2622f-d2c9-403b-88b7-a042dd50f377",
      "6d717bab-a619-4c94-b190-cadab6ae1c77",
      "4a218c4b-6c57-47d0-9c53-45033c0a2a5f",
      "59939e5b-be81-4a7e-b0a5-d141607b9548",
      "7d44481f-1b42-4641-b005-713301e63bc7",
      "f4f03307-c3ba-467a-abe9-f73631fd3316",
      "71504d6f-fe44-41c2-b3ee-f2fbb46c0ad1",
      "de238adb-b46e-486d-8d92-715193338e29",
      "06a4f6b1-6d62-4eea-a6ff-a395801bbbca",
      "37578fe9-dd88-4e20-9010-a612529fd0d5",
      "87f7c6a0-8e6b-42a2-9663-50e53c01d29d",
      "417a097e-8ead-41a0-a7bf-320527507724",
      "ec02dcdf-01e4-42d5-b07a-3b494718f93d",
      "79fab690-6537-4e2c-ba5c-bf9acc7ef3a9",
      "37642974-964c-43be-85b0-3884e30facd8",
      "55e672b3-5a6d-48b5-99ad-13a34c9cd2ad",
      "e5cc181c-3d85-4040-9dce-8f97b1a494de",
      "b76e1642-f5bf-4829-9212-eac9e730e55f",
      "c1ff20af-df7b-4eeb-a734-2a3dc38771dd",
      "00729e24-5a89-4fe2-b005-b9e3d3b8e7c1",
      "7e0f9a35-89f0-44ef-8b1c-55985d82c4d2",
      "a01dbba8-434a-42b5-975e-9ee0d72b55b5",
      "84bdc875-db4f-41c3-a37c-89d5e6f26499",
      "f2cb2207-66a2-42c7-85c0-0a786b870363",
      "73c21ab6-5e21-42fa-a73c-0f3e042be3a0",
      "7686aef2-2c96-4fdc-b8c3-781024839a5b",
      "04d5774f-8a27-4c3f-8997-f58c06c4cc39",
      "585b4e39-7a06-4823-b6ed-39dfbd0a2501",
      "c25f06d0-35c5-4109-a348-4976c8094243",
      "cb8a6ae5-f8c8-4612-8b91-506bdcbf2ade",
      "0e2e6ffd-5637-49be-9237-3e334229b1a0",
      "25146e1e-e711-43d7-b0cd-855945ce27a0",
      "87da73e3-6196-4961-941b-4845f60a9ce9",
      "5fa38ddc-ba6d-4783-a218-808ff1cc5178",
      "30c38c21-82e4-45f7-9c3b-c43155f6e250",
      "893251d4-3e77-481a-9efe-1eebb6f7f088",
      "a6498ee9-c9bb-47bf-a70c-17f76a8e9359",
      "4bb57873-9685-4085-b4b8-5eaf75380e3c",
      "789e9f6c-e597-4f44-8e6d-6962461f0d53",
      "5eb24022-39d0-4eeb-ad95-2d887115bdf9",
      "92043f66-4959-4c9b-9fac-17e0c51d3b97",
      "05e65020-5446-40fd-93c0-4aeea93aa329",
      "038ff9ec-db8f-46d3-911d-947f98f5aee7",
      "2c7878df-e881-4d98-9760-6c501391f3d2",
      "658eb2ee-c968-4a75-8376-264486830646",
      "71520c35-2156-4c14-b6bd-1311be9be0c6",
      "478abb5f-100d-4c9d-aae6-0155308b8010",
      "260734df-e147-4b97-b835-9a3522c07663",
      "5c1aa57e-7295-4481-ae40-dace19bf4ee9",
      "08dea2ce-c1bb-4874-bc38-297e4dc21204",
      "5bc8f927-961d-4261-9762-9382546cdae6",
      "038279b7-2ab9-4ea7-8e52-00fd9d8d5bf2",
      "08910e73-31c9-4507-932f-77156c460088",
      "9f741ee8-1db1-4cde-bedd-2caa44de3ed5",
      "73fbc5ad-ea4e-4804-b5b2-fb4b13feb35d",
      "ef81ab56-ec9c-49a4-864a-9fda5540eed8",
      "4cbdfaa3-432b-4dd7-bc51-7be519403e0d",
      "3004f59f-2265-4ee4-89c6-11dbcc55bff7",
      "11bf0b1a-7b3a-44dc-a767-3fa0ddbc1805",
      "89e67384-715d-4837-9af6-d4ccb834609e",
      "7062f2c6-caab-4b1e-b2d3-d7c50c6c1799",
      "73dc6581-480a-461b-b92c-f57fb50fe951",
      "02e93fd0-c6e8-464c-895a-7c0133848020",
      "6a46e482-03e4-43bf-a193-44bf482475ec",
      "d02354e1-be02-48af-98a0-e2379c4789b5",
      "dbab1b45-cf12-4495-938b-a2813427ce24",
      "7bf2ecea-e9ba-4cfc-a9ce-6af132ba66af",
      "833b7551-e355-45c5-95fe-7fbfc5567b6f",
      "403e0827-e2f8-4757-8ea9-aec7453acafb",
      "371a21c1-e505-4995-bde0-5d73588c94dc",
      "18a483be-c39a-4582-9129-a497a158191b",
      "0459e2c3-1b16-4285-99cd-728696f602c4",
      "98c186e3-c766-4306-93e9-51f9c2d1e3b6",
      "b6f9fbe1-d599-411c-81b7-25e6d141e73c",
      "e287e610-5be4-4fe8-9cb2-9337f32b62af",
      "a6b2b5a8-a7ca-49bb-953b-af7f9e55d395",
      "839e1250-c6ff-41ad-81ee-8fcbc16f7707",
      "71907042-86e8-405a-9c9a-11afe0ef0602",
      "2ed814d7-9549-441e-bc46-d21c27b3b52c"
    ]
  },
  "nbformat": 4,
  "nbformat_minor": 5
}